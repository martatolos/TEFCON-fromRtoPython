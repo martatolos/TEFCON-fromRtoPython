{
 "metadata": {
  "name": "",
  "signature": "sha256:f0f093b85701027c9be168ba37fb8c149a74aa4b8dc916c466c3fa85e2fd1a34"
 },
 "nbformat": 3,
 "nbformat_minor": 0,
 "worksheets": [
  {
   "cells": [
    {
     "cell_type": "code",
     "collapsed": false,
     "input": [
      "from HourlyPowerConsumptions import HourlyPowerConsumptions\n",
      "\n",
      "import numpy as np\n",
      "import matplotlib.pyplot as plt\n",
      "\n",
      "from sklearn.linear_model import LinearRegression\n",
      "from sklearn.preprocessing import OneHotEncoder\n",
      "from visualizations import plot_regression"
     ],
     "language": "python",
     "metadata": {},
     "outputs": [],
     "prompt_number": 5
    },
    {
     "cell_type": "code",
     "collapsed": false,
     "input": [
      "def evaluate(regressor, X_train, y_train, X_test, y_test):\n",
      "    \"\"\"\n",
      "    Given a regressor, it fits the model with X_train and y_train\n",
      "    and then predicts for X_test. Prints the Variance score. Best possible score is 1.0, lower values are worse.\n",
      "    :param regressor: the regressor\n",
      "    :param X_train:\n",
      "    :param y_train:\n",
      "    :param X_test:\n",
      "    :param y_test:\n",
      "    :return: None\n",
      "    \"\"\"\n",
      "\n",
      "    regressor.fit(X_train, y_train)\n",
      "\n",
      "    y_pred = regressor.predict(X_test)\n",
      "\n",
      "    print('Coefficients: \\n', regressor.coef_)\n",
      "    # The mean square error\n",
      "    print(\"Residual sum of squares: %.2f\"\n",
      "          % np.mean((y_pred - y_test) ** 2))\n",
      "    # Explained variance score: 1 is perfect prediction\n",
      "    print('Variance score: %.2f' % regressor.score(X_test, y_test))\n",
      "\n",
      "    return y_pred"
     ],
     "language": "python",
     "metadata": {},
     "outputs": [],
     "prompt_number": 1
    },
    {
     "cell_type": "code",
     "collapsed": false,
     "input": [
      "def plot_curves(x, y_pred, y_test, x_label, y_label, legend):\n",
      "    \"\"\"\n",
      "    It plots to curves, the truth and the predicted\n",
      "    :param x: 1 dim array for x\n",
      "    :param y_pred: 1 dim array for predicted curve\n",
      "    :param y_test: 1 dim array for truth curve\n",
      "    :param x_label: x label\n",
      "    :param y_label: y label\n",
      "    :param legend: legend (expected of size 2)\n",
      "    :return:\n",
      "    \"\"\"\n",
      "    if not isinstance(y_pred, np.ndarray):\n",
      "        y_pred = np.asarray(y_pred)\n",
      "\n",
      "    if not isinstance(y_test, np.ndarray):\n",
      "        y_test = np.asarray(y_test)\n",
      "\n",
      "    if not isinstance(x, np.ndarray):\n",
      "        x = np.asarray(x)\n",
      "\n",
      "    # Plot outputs\n",
      "    plt.plot(x, y_pred)\n",
      "    plt.plot(x, y_test)\n",
      "\n",
      "    plt.legend(legend, loc='upper left')\n",
      "    plt.axis([x.min() - 0.2, x.max() + 0.2, y_test.min() - 0.2, y_test.max() + 0.2])\n",
      "    plt.xlabel(x_label)\n",
      "    plt.ylabel(y_label)\n",
      "\n",
      "    plt.show()"
     ],
     "language": "python",
     "metadata": {},
     "outputs": [],
     "prompt_number": 2
    },
    {
     "cell_type": "code",
     "collapsed": false,
     "input": [
      "dir_path = \"/Users/zoraida/Desktop/TEFCON/all-country-data/hourly\"\n",
      "pattern = \"/Hourly_201*month*.xls\"\n",
      "year = 2013 # year to predict\n",
      "country = 'ES' # country to predict"
     ],
     "language": "python",
     "metadata": {},
     "outputs": [],
     "prompt_number": 6
    },
    {
     "cell_type": "code",
     "collapsed": false,
     "input": [
      "pc = HourlyPowerConsumptions(dir_path, pattern, skiprows=9, maxcolumns=26, hourchange='3B:00:00')"
     ],
     "language": "python",
     "metadata": {},
     "outputs": [],
     "prompt_number": 7
    },
    {
     "cell_type": "code",
     "collapsed": false,
     "input": [
      "df = pc.historical_daily_aggregates(country, year, num_years=3)\n",
      "df = df[df.date != '2012-02-29']"
     ],
     "language": "python",
     "metadata": {},
     "outputs": [],
     "prompt_number": 9
    },
    {
     "cell_type": "code",
     "collapsed": false,
     "input": [
      "df.head()"
     ],
     "language": "python",
     "metadata": {},
     "outputs": [
      {
       "html": [
        "<div style=\"max-height:1000px;max-width:1500px;overflow:auto;\">\n",
        "<table border=\"1\" class=\"dataframe\">\n",
        "  <thead>\n",
        "    <tr style=\"text-align: right;\">\n",
        "      <th></th>\n",
        "      <th>date</th>\n",
        "      <th>weekday</th>\n",
        "      <th>month</th>\n",
        "      <th>year</th>\n",
        "      <th>Consumption</th>\n",
        "    </tr>\n",
        "  </thead>\n",
        "  <tbody>\n",
        "    <tr>\n",
        "      <th>0</th>\n",
        "      <td>2010-01-01</td>\n",
        "      <td> 4</td>\n",
        "      <td> 1</td>\n",
        "      <td> 2010</td>\n",
        "      <td> 539737</td>\n",
        "    </tr>\n",
        "    <tr>\n",
        "      <th>1</th>\n",
        "      <td>2010-01-02</td>\n",
        "      <td> 5</td>\n",
        "      <td> 1</td>\n",
        "      <td> 2010</td>\n",
        "      <td> 620238</td>\n",
        "    </tr>\n",
        "    <tr>\n",
        "      <th>2</th>\n",
        "      <td>2010-01-03</td>\n",
        "      <td> 6</td>\n",
        "      <td> 1</td>\n",
        "      <td> 2010</td>\n",
        "      <td> 617602</td>\n",
        "    </tr>\n",
        "    <tr>\n",
        "      <th>3</th>\n",
        "      <td>2010-01-04</td>\n",
        "      <td> 0</td>\n",
        "      <td> 1</td>\n",
        "      <td> 2010</td>\n",
        "      <td> 736761</td>\n",
        "    </tr>\n",
        "    <tr>\n",
        "      <th>4</th>\n",
        "      <td>2010-01-05</td>\n",
        "      <td> 1</td>\n",
        "      <td> 1</td>\n",
        "      <td> 2010</td>\n",
        "      <td> 719938</td>\n",
        "    </tr>\n",
        "  </tbody>\n",
        "</table>\n",
        "</div>"
       ],
       "metadata": {},
       "output_type": "pyout",
       "prompt_number": 10,
       "text": [
        "        date  weekday  month  year  Consumption\n",
        "0 2010-01-01        4      1  2010       539737\n",
        "1 2010-01-02        5      1  2010       620238\n",
        "2 2010-01-03        6      1  2010       617602\n",
        "3 2010-01-04        0      1  2010       736761\n",
        "4 2010-01-05        1      1  2010       719938"
       ]
      }
     ],
     "prompt_number": 10
    },
    {
     "cell_type": "code",
     "collapsed": false,
     "input": [
      "y_train = df[df.year.isin(range(year-3,year))].Consumption.values\n",
      "y_test = df[df.year == year].Consumption.values\n",
      "\n",
      "X_train = var = df[df.year.isin(range(year - 3, year))][['month', 'year', 'weekday']].values\n",
      "X_test = df[df.year == year][['month','year','weekday']].values"
     ],
     "language": "python",
     "metadata": {},
     "outputs": [],
     "prompt_number": 11
    },
    {
     "cell_type": "code",
     "collapsed": false,
     "input": [
      "y_train.shape"
     ],
     "language": "python",
     "metadata": {},
     "outputs": [
      {
       "metadata": {},
       "output_type": "pyout",
       "prompt_number": 12,
       "text": [
        "(1095,)"
       ]
      }
     ],
     "prompt_number": 12
    },
    {
     "cell_type": "code",
     "collapsed": false,
     "input": [
      "y_test.shape"
     ],
     "language": "python",
     "metadata": {},
     "outputs": [
      {
       "metadata": {},
       "output_type": "pyout",
       "prompt_number": 13,
       "text": [
        "(365,)"
       ]
      }
     ],
     "prompt_number": 13
    },
    {
     "cell_type": "code",
     "collapsed": false,
     "input": [
      "X_train.shape"
     ],
     "language": "python",
     "metadata": {},
     "outputs": [
      {
       "metadata": {},
       "output_type": "pyout",
       "prompt_number": 14,
       "text": [
        "(1095, 3)"
       ]
      }
     ],
     "prompt_number": 14
    },
    {
     "cell_type": "code",
     "collapsed": false,
     "input": [
      "X_test.shape"
     ],
     "language": "python",
     "metadata": {},
     "outputs": [
      {
       "metadata": {},
       "output_type": "pyout",
       "prompt_number": 15,
       "text": [
        "(365, 3)"
       ]
      }
     ],
     "prompt_number": 15
    },
    {
     "cell_type": "code",
     "collapsed": false,
     "input": [
      "type(X_train)"
     ],
     "language": "python",
     "metadata": {},
     "outputs": [
      {
       "metadata": {},
       "output_type": "pyout",
       "prompt_number": 16,
       "text": [
        "numpy.ndarray"
       ]
      }
     ],
     "prompt_number": 16
    },
    {
     "cell_type": "code",
     "collapsed": false,
     "input": [
      "type(y_train)"
     ],
     "language": "python",
     "metadata": {},
     "outputs": [
      {
       "metadata": {},
       "output_type": "pyout",
       "prompt_number": 17,
       "text": [
        "numpy.ndarray"
       ]
      }
     ],
     "prompt_number": 17
    },
    {
     "cell_type": "code",
     "collapsed": false,
     "input": [
      "vec = OneHotEncoder(sparse=False, categorical_features=[0, 2])\n",
      "X_train_T = vec.fit_transform(X_train).astype(int)\n",
      "X_test_T = vec.transform(X_test).astype(int)"
     ],
     "language": "python",
     "metadata": {},
     "outputs": [],
     "prompt_number": 18
    },
    {
     "cell_type": "code",
     "collapsed": false,
     "input": [
      "X_train_T.shape"
     ],
     "language": "python",
     "metadata": {},
     "outputs": [
      {
       "metadata": {},
       "output_type": "pyout",
       "prompt_number": 20,
       "text": [
        "(1095, 20)"
       ]
      }
     ],
     "prompt_number": 20
    },
    {
     "cell_type": "code",
     "collapsed": false,
     "input": [
      "X_train_T[0]"
     ],
     "language": "python",
     "metadata": {},
     "outputs": [
      {
       "metadata": {},
       "output_type": "pyout",
       "prompt_number": 21,
       "text": [
        "array([   1,    0,    0,    0,    0,    0,    0,    0,    0,    0,    0,\n",
        "          0,    0,    0,    0,    0,    1,    0,    0, 2010])"
       ]
      }
     ],
     "prompt_number": 21
    },
    {
     "cell_type": "code",
     "collapsed": false,
     "input": [
      "regressor = LinearRegression()"
     ],
     "language": "python",
     "metadata": {},
     "outputs": [],
     "prompt_number": 22
    },
    {
     "cell_type": "code",
     "collapsed": false,
     "input": [
      "# Returns prediction of a day consumption for all the countries\n",
      "y_pred = evaluate(regressor, X_train_T, y_train, X_test_T, y_test)"
     ],
     "language": "python",
     "metadata": {},
     "outputs": [
      {
       "output_type": "stream",
       "stream": "stdout",
       "text": [
        "('Coefficients: \\n', array([ -2.86899146e+17,  -2.86899146e+17,  -2.86899146e+17,\n",
        "        -2.86899146e+17,  -2.86899146e+17,  -2.86899146e+17,\n",
        "        -2.86899146e+17,  -2.86899146e+17,  -2.86899146e+17,\n",
        "        -2.86899146e+17,  -2.86899146e+17,  -2.86899146e+17,\n",
        "        -2.12943336e+18,  -2.12943336e+18,  -2.12943336e+18,\n",
        "        -2.12943336e+18,  -2.12943336e+18,  -2.12943336e+18,\n",
        "        -2.12943336e+18,  -1.21534017e+04]))\n",
        "Residual sum of squares: 1431924351.71\n",
        "Variance score: 0.67\n"
       ]
      }
     ],
     "prompt_number": 23
    },
    {
     "cell_type": "code",
     "collapsed": false,
     "input": [],
     "language": "python",
     "metadata": {},
     "outputs": []
    }
   ],
   "metadata": {}
  }
 ]
}