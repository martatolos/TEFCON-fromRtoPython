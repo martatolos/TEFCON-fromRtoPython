{
 "metadata": {
  "name": "",
  "signature": "sha256:95e949fba187cb0e29148dc088929f8b116a908ffc7ddb5a6d3af238ea723ef6"
 },
 "nbformat": 3,
 "nbformat_minor": 0,
 "worksheets": [
  {
   "cells": [
    {
     "cell_type": "code",
     "collapsed": false,
     "input": [
      "from hourlypowerconsumptions import HourlyPowerConsumptions\n",
      "from visualizations import plot_barchart\n",
      "import numpy as np\n",
      "from sklearn.cluster import KMeans"
     ],
     "language": "python",
     "metadata": {},
     "outputs": [
      {
       "ename": "ImportError",
       "evalue": "No module named visualizations",
       "output_type": "pyerr",
       "traceback": [
        "\u001b[0;31m---------------------------------------------------------------------------\u001b[0m\n\u001b[0;31mImportError\u001b[0m                               Traceback (most recent call last)",
        "\u001b[0;32m<ipython-input-3-4d727dc0e3fe>\u001b[0m in \u001b[0;36m<module>\u001b[0;34m()\u001b[0m\n\u001b[1;32m      1\u001b[0m \u001b[0;32mfrom\u001b[0m \u001b[0mhourlypowerconsumptions\u001b[0m \u001b[0;32mimport\u001b[0m \u001b[0mHourlyPowerConsumptions\u001b[0m\u001b[0;34m\u001b[0m\u001b[0m\n\u001b[0;32m----> 2\u001b[0;31m \u001b[0;32mfrom\u001b[0m \u001b[0mvisualizations\u001b[0m \u001b[0;32mimport\u001b[0m \u001b[0mplot_barchart\u001b[0m\u001b[0;34m\u001b[0m\u001b[0m\n\u001b[0m\u001b[1;32m      3\u001b[0m \u001b[0;32mimport\u001b[0m \u001b[0mnumpy\u001b[0m \u001b[0;32mas\u001b[0m \u001b[0mnp\u001b[0m\u001b[0;34m\u001b[0m\u001b[0m\n\u001b[1;32m      4\u001b[0m \u001b[0;32mfrom\u001b[0m \u001b[0msklearn\u001b[0m\u001b[0;34m.\u001b[0m\u001b[0mcluster\u001b[0m \u001b[0;32mimport\u001b[0m \u001b[0mKMeans\u001b[0m\u001b[0;34m\u001b[0m\u001b[0m\n",
        "\u001b[0;31mImportError\u001b[0m: No module named visualizations"
       ]
      }
     ],
     "prompt_number": 3
    },
    {
     "cell_type": "code",
     "collapsed": false,
     "input": [
      "dir_path = \"/Users/zoraida/Desktop/TEFCON/all-country-data/hourly\"\n",
      "pattern = \"/Hourly_201*month*.xls\""
     ],
     "language": "python",
     "metadata": {},
     "outputs": [],
     "prompt_number": 2
    },
    {
     "cell_type": "code",
     "collapsed": false,
     "input": [
      "pc = HourlyPowerConsumptions(dir_path, pattern, skiprows=9, maxcolumns=26, hourchange='3B:00:00')"
     ],
     "language": "python",
     "metadata": {},
     "outputs": [],
     "prompt_number": 3
    },
    {
     "cell_type": "code",
     "collapsed": false,
     "input": [
      "country = \"ES\"# country to analyse\n",
      "df = pc.normalized_hourly_country_data(country)"
     ],
     "language": "python",
     "metadata": {},
     "outputs": [],
     "prompt_number": 4
    },
    {
     "cell_type": "code",
     "collapsed": false,
     "input": [
      "df.head()"
     ],
     "language": "python",
     "metadata": {},
     "outputs": [
      {
       "html": [
        "<div style=\"max-height:1000px;max-width:1500px;overflow:auto;\">\n",
        "<table border=\"1\" class=\"dataframe\">\n",
        "  <thead>\n",
        "    <tr style=\"text-align: right;\">\n",
        "      <th></th>\n",
        "      <th></th>\n",
        "      <th></th>\n",
        "      <th></th>\n",
        "      <th></th>\n",
        "      <th></th>\n",
        "      <th>H01</th>\n",
        "      <th>H02</th>\n",
        "      <th>H03</th>\n",
        "      <th>H04</th>\n",
        "      <th>H05</th>\n",
        "      <th>H06</th>\n",
        "      <th>H07</th>\n",
        "      <th>H08</th>\n",
        "      <th>H09</th>\n",
        "      <th>H10</th>\n",
        "      <th>...</th>\n",
        "      <th>H15</th>\n",
        "      <th>H16</th>\n",
        "      <th>H17</th>\n",
        "      <th>H18</th>\n",
        "      <th>H19</th>\n",
        "      <th>H20</th>\n",
        "      <th>H21</th>\n",
        "      <th>H22</th>\n",
        "      <th>H23</th>\n",
        "      <th>H24</th>\n",
        "    </tr>\n",
        "    <tr>\n",
        "      <th>Country</th>\n",
        "      <th>year</th>\n",
        "      <th>month</th>\n",
        "      <th>weekday</th>\n",
        "      <th>date</th>\n",
        "      <th>Day</th>\n",
        "      <th></th>\n",
        "      <th></th>\n",
        "      <th></th>\n",
        "      <th></th>\n",
        "      <th></th>\n",
        "      <th></th>\n",
        "      <th></th>\n",
        "      <th></th>\n",
        "      <th></th>\n",
        "      <th></th>\n",
        "      <th></th>\n",
        "      <th></th>\n",
        "      <th></th>\n",
        "      <th></th>\n",
        "      <th></th>\n",
        "      <th></th>\n",
        "      <th></th>\n",
        "      <th></th>\n",
        "      <th></th>\n",
        "      <th></th>\n",
        "      <th></th>\n",
        "    </tr>\n",
        "  </thead>\n",
        "  <tbody>\n",
        "    <tr>\n",
        "      <th rowspan=\"5\" valign=\"top\">ES</th>\n",
        "      <th rowspan=\"5\" valign=\"top\">2010</th>\n",
        "      <th rowspan=\"5\" valign=\"top\">1</th>\n",
        "      <th>4</th>\n",
        "      <th>2010-01-01</th>\n",
        "      <th>2010-01-01</th>\n",
        "      <td> 0.042322</td>\n",
        "      <td> 0.039458</td>\n",
        "      <td> 0.037003</td>\n",
        "      <td> 0.035206</td>\n",
        "      <td> 0.034550</td>\n",
        "      <td> 0.034550</td>\n",
        "      <td> 0.035132</td>\n",
        "      <td> 0.034663</td>\n",
        "      <td> 0.034548</td>\n",
        "      <td> 0.036679</td>\n",
        "      <td>...</td>\n",
        "      <td> 0.040560</td>\n",
        "      <td> 0.040003</td>\n",
        "      <td> 0.041568</td>\n",
        "      <td> 0.047490</td>\n",
        "      <td> 0.049900</td>\n",
        "      <td> 0.051403</td>\n",
        "      <td> 0.052409</td>\n",
        "      <td> 0.052646</td>\n",
        "      <td> 0.049255</td>\n",
        "      <td> 0.044677</td>\n",
        "    </tr>\n",
        "    <tr>\n",
        "      <th>5</th>\n",
        "      <th>2010-01-02</th>\n",
        "      <th>2010-01-02</th>\n",
        "      <td> 0.034882</td>\n",
        "      <td> 0.031838</td>\n",
        "      <td> 0.030237</td>\n",
        "      <td> 0.029740</td>\n",
        "      <td> 0.030203</td>\n",
        "      <td> 0.032157</td>\n",
        "      <td> 0.034508</td>\n",
        "      <td> 0.036928</td>\n",
        "      <td> 0.039869</td>\n",
        "      <td> 0.044210</td>\n",
        "      <td>...</td>\n",
        "      <td> 0.044156</td>\n",
        "      <td> 0.043585</td>\n",
        "      <td> 0.044473</td>\n",
        "      <td> 0.049226</td>\n",
        "      <td> 0.050569</td>\n",
        "      <td> 0.050968</td>\n",
        "      <td> 0.050885</td>\n",
        "      <td> 0.050023</td>\n",
        "      <td> 0.047008</td>\n",
        "      <td> 0.043177</td>\n",
        "    </tr>\n",
        "    <tr>\n",
        "      <th>6</th>\n",
        "      <th>2010-01-03</th>\n",
        "      <th>2010-01-03</th>\n",
        "      <td> 0.039333</td>\n",
        "      <td> 0.035873</td>\n",
        "      <td> 0.033641</td>\n",
        "      <td> 0.032639</td>\n",
        "      <td> 0.032790</td>\n",
        "      <td> 0.033366</td>\n",
        "      <td> 0.034053</td>\n",
        "      <td> 0.034705</td>\n",
        "      <td> 0.036517</td>\n",
        "      <td> 0.040244</td>\n",
        "      <td>...</td>\n",
        "      <td> 0.043664</td>\n",
        "      <td> 0.042735</td>\n",
        "      <td> 0.043382</td>\n",
        "      <td> 0.047867</td>\n",
        "      <td> 0.049781</td>\n",
        "      <td> 0.051046</td>\n",
        "      <td> 0.051753</td>\n",
        "      <td> 0.050986</td>\n",
        "      <td> 0.047782</td>\n",
        "      <td> 0.042932</td>\n",
        "    </tr>\n",
        "    <tr>\n",
        "      <th>0</th>\n",
        "      <th>2010-01-04</th>\n",
        "      <th>2010-01-04</th>\n",
        "      <td> 0.032141</td>\n",
        "      <td> 0.029628</td>\n",
        "      <td> 0.028357</td>\n",
        "      <td> 0.028110</td>\n",
        "      <td> 0.028937</td>\n",
        "      <td> 0.031947</td>\n",
        "      <td> 0.036898</td>\n",
        "      <td> 0.041733</td>\n",
        "      <td> 0.045361</td>\n",
        "      <td> 0.047912</td>\n",
        "      <td>...</td>\n",
        "      <td> 0.045734</td>\n",
        "      <td> 0.045659</td>\n",
        "      <td> 0.046631</td>\n",
        "      <td> 0.048852</td>\n",
        "      <td> 0.048892</td>\n",
        "      <td> 0.048506</td>\n",
        "      <td> 0.048206</td>\n",
        "      <td> 0.046073</td>\n",
        "      <td> 0.042039</td>\n",
        "      <td> 0.037860</td>\n",
        "    </tr>\n",
        "    <tr>\n",
        "      <th>1</th>\n",
        "      <th>2010-01-05</th>\n",
        "      <th>2010-01-05</th>\n",
        "      <td> 0.034756</td>\n",
        "      <td> 0.032135</td>\n",
        "      <td> 0.030840</td>\n",
        "      <td> 0.030394</td>\n",
        "      <td> 0.030932</td>\n",
        "      <td> 0.033729</td>\n",
        "      <td> 0.038231</td>\n",
        "      <td> 0.042670</td>\n",
        "      <td> 0.046062</td>\n",
        "      <td> 0.048104</td>\n",
        "      <td>...</td>\n",
        "      <td> 0.044777</td>\n",
        "      <td> 0.044654</td>\n",
        "      <td> 0.044921</td>\n",
        "      <td> 0.046676</td>\n",
        "      <td> 0.046032</td>\n",
        "      <td> 0.045558</td>\n",
        "      <td> 0.045429</td>\n",
        "      <td> 0.044337</td>\n",
        "      <td> 0.041870</td>\n",
        "      <td> 0.038519</td>\n",
        "    </tr>\n",
        "  </tbody>\n",
        "</table>\n",
        "<p>5 rows \u00d7 24 columns</p>\n",
        "</div>"
       ],
       "metadata": {},
       "output_type": "pyout",
       "prompt_number": 5,
       "text": [
        "                                                       H01       H02  \\\n",
        "Country year month weekday date       Day                              \n",
        "ES      2010 1     4       2010-01-01 2010-01-01  0.042322  0.039458   \n",
        "                   5       2010-01-02 2010-01-02  0.034882  0.031838   \n",
        "                   6       2010-01-03 2010-01-03  0.039333  0.035873   \n",
        "                   0       2010-01-04 2010-01-04  0.032141  0.029628   \n",
        "                   1       2010-01-05 2010-01-05  0.034756  0.032135   \n",
        "\n",
        "                                                       H03       H04  \\\n",
        "Country year month weekday date       Day                              \n",
        "ES      2010 1     4       2010-01-01 2010-01-01  0.037003  0.035206   \n",
        "                   5       2010-01-02 2010-01-02  0.030237  0.029740   \n",
        "                   6       2010-01-03 2010-01-03  0.033641  0.032639   \n",
        "                   0       2010-01-04 2010-01-04  0.028357  0.028110   \n",
        "                   1       2010-01-05 2010-01-05  0.030840  0.030394   \n",
        "\n",
        "                                                       H05       H06  \\\n",
        "Country year month weekday date       Day                              \n",
        "ES      2010 1     4       2010-01-01 2010-01-01  0.034550  0.034550   \n",
        "                   5       2010-01-02 2010-01-02  0.030203  0.032157   \n",
        "                   6       2010-01-03 2010-01-03  0.032790  0.033366   \n",
        "                   0       2010-01-04 2010-01-04  0.028937  0.031947   \n",
        "                   1       2010-01-05 2010-01-05  0.030932  0.033729   \n",
        "\n",
        "                                                       H07       H08  \\\n",
        "Country year month weekday date       Day                              \n",
        "ES      2010 1     4       2010-01-01 2010-01-01  0.035132  0.034663   \n",
        "                   5       2010-01-02 2010-01-02  0.034508  0.036928   \n",
        "                   6       2010-01-03 2010-01-03  0.034053  0.034705   \n",
        "                   0       2010-01-04 2010-01-04  0.036898  0.041733   \n",
        "                   1       2010-01-05 2010-01-05  0.038231  0.042670   \n",
        "\n",
        "                                                       H09       H10  \\\n",
        "Country year month weekday date       Day                              \n",
        "ES      2010 1     4       2010-01-01 2010-01-01  0.034548  0.036679   \n",
        "                   5       2010-01-02 2010-01-02  0.039869  0.044210   \n",
        "                   6       2010-01-03 2010-01-03  0.036517  0.040244   \n",
        "                   0       2010-01-04 2010-01-04  0.045361  0.047912   \n",
        "                   1       2010-01-05 2010-01-05  0.046062  0.048104   \n",
        "\n",
        "                                                    ...          H15  \\\n",
        "Country year month weekday date       Day           ...                \n",
        "ES      2010 1     4       2010-01-01 2010-01-01    ...     0.040560   \n",
        "                   5       2010-01-02 2010-01-02    ...     0.044156   \n",
        "                   6       2010-01-03 2010-01-03    ...     0.043664   \n",
        "                   0       2010-01-04 2010-01-04    ...     0.045734   \n",
        "                   1       2010-01-05 2010-01-05    ...     0.044777   \n",
        "\n",
        "                                                       H16       H17  \\\n",
        "Country year month weekday date       Day                              \n",
        "ES      2010 1     4       2010-01-01 2010-01-01  0.040003  0.041568   \n",
        "                   5       2010-01-02 2010-01-02  0.043585  0.044473   \n",
        "                   6       2010-01-03 2010-01-03  0.042735  0.043382   \n",
        "                   0       2010-01-04 2010-01-04  0.045659  0.046631   \n",
        "                   1       2010-01-05 2010-01-05  0.044654  0.044921   \n",
        "\n",
        "                                                       H18       H19  \\\n",
        "Country year month weekday date       Day                              \n",
        "ES      2010 1     4       2010-01-01 2010-01-01  0.047490  0.049900   \n",
        "                   5       2010-01-02 2010-01-02  0.049226  0.050569   \n",
        "                   6       2010-01-03 2010-01-03  0.047867  0.049781   \n",
        "                   0       2010-01-04 2010-01-04  0.048852  0.048892   \n",
        "                   1       2010-01-05 2010-01-05  0.046676  0.046032   \n",
        "\n",
        "                                                       H20       H21  \\\n",
        "Country year month weekday date       Day                              \n",
        "ES      2010 1     4       2010-01-01 2010-01-01  0.051403  0.052409   \n",
        "                   5       2010-01-02 2010-01-02  0.050968  0.050885   \n",
        "                   6       2010-01-03 2010-01-03  0.051046  0.051753   \n",
        "                   0       2010-01-04 2010-01-04  0.048506  0.048206   \n",
        "                   1       2010-01-05 2010-01-05  0.045558  0.045429   \n",
        "\n",
        "                                                       H22       H23       H24  \n",
        "Country year month weekday date       Day                                       \n",
        "ES      2010 1     4       2010-01-01 2010-01-01  0.052646  0.049255  0.044677  \n",
        "                   5       2010-01-02 2010-01-02  0.050023  0.047008  0.043177  \n",
        "                   6       2010-01-03 2010-01-03  0.050986  0.047782  0.042932  \n",
        "                   0       2010-01-04 2010-01-04  0.046073  0.042039  0.037860  \n",
        "                   1       2010-01-05 2010-01-05  0.044337  0.041870  0.038519  \n",
        "\n",
        "[5 rows x 24 columns]"
       ]
      }
     ],
     "prompt_number": 5
    },
    {
     "cell_type": "code",
     "collapsed": false,
     "input": [
      "X = df.iloc[:, 4:28].values"
     ],
     "language": "python",
     "metadata": {},
     "outputs": [],
     "prompt_number": 6
    },
    {
     "cell_type": "code",
     "collapsed": false,
     "input": [
      "X"
     ],
     "language": "python",
     "metadata": {},
     "outputs": [
      {
       "metadata": {},
       "output_type": "pyout",
       "prompt_number": 7,
       "text": [
        "array([[ 0.03455016,  0.03455016,  0.03513193, ...,  0.05264601,\n",
        "         0.04925547,  0.04467732],\n",
        "       [ 0.03020292,  0.03215701,  0.03450772, ...,  0.05002273,\n",
        "         0.04700776,  0.04317697],\n",
        "       [ 0.03278973,  0.03336615,  0.03405267, ...,  0.05098591,\n",
        "         0.04778158,  0.04293218],\n",
        "       ..., \n",
        "       [ 0.03552622,  0.03593053,  0.03757593, ...,  0.04350139,\n",
        "         0.04046741,  0.03814594],\n",
        "       [ 0.0354403 ,  0.03566766,  0.03648358, ...,  0.04793214,\n",
        "         0.04434209,  0.04116825],\n",
        "       [ 0.0309379 ,  0.03465274,  0.04035536, ...,  0.04352465,\n",
        "         0.03974652,  0.03713633]])"
       ]
      }
     ],
     "prompt_number": 7
    },
    {
     "cell_type": "code",
     "collapsed": false,
     "input": [
      "X.shape"
     ],
     "language": "python",
     "metadata": {},
     "outputs": [
      {
       "metadata": {},
       "output_type": "pyout",
       "prompt_number": 8,
       "text": [
        "(1461, 20)"
       ]
      }
     ],
     "prompt_number": 8
    },
    {
     "cell_type": "code",
     "collapsed": false,
     "input": [
      "df.values.shape"
     ],
     "language": "python",
     "metadata": {},
     "outputs": [
      {
       "metadata": {},
       "output_type": "pyout",
       "prompt_number": 9,
       "text": [
        "(1461, 24)"
       ]
      }
     ],
     "prompt_number": 9
    },
    {
     "cell_type": "code",
     "collapsed": false,
     "input": [
      "kmeans = KMeans(init='k-means++', n_clusters=2, n_init=10)"
     ],
     "language": "python",
     "metadata": {},
     "outputs": [],
     "prompt_number": 10
    },
    {
     "cell_type": "code",
     "collapsed": false,
     "input": [
      "labels_ = kmeans.fit_predict(df.iloc[:, 4:28].values)"
     ],
     "language": "python",
     "metadata": {},
     "outputs": [],
     "prompt_number": 11
    },
    {
     "cell_type": "code",
     "collapsed": false,
     "input": [
      "type(labels_)"
     ],
     "language": "python",
     "metadata": {},
     "outputs": [
      {
       "metadata": {},
       "output_type": "pyout",
       "prompt_number": 12,
       "text": [
        "numpy.ndarray"
       ]
      }
     ],
     "prompt_number": 12
    },
    {
     "cell_type": "code",
     "collapsed": false,
     "input": [
      "labels_.shape"
     ],
     "language": "python",
     "metadata": {},
     "outputs": [
      {
       "metadata": {},
       "output_type": "pyout",
       "prompt_number": 13,
       "text": [
        "(1461,)"
       ]
      }
     ],
     "prompt_number": 13
    },
    {
     "cell_type": "code",
     "collapsed": false,
     "input": [
      "print labels_"
     ],
     "language": "python",
     "metadata": {},
     "outputs": [
      {
       "output_type": "stream",
       "stream": "stdout",
       "text": [
        "[1 1 1 ..., 1 1 0]\n"
       ]
      }
     ],
     "prompt_number": 14
    },
    {
     "cell_type": "code",
     "collapsed": false,
     "input": [],
     "language": "python",
     "metadata": {},
     "outputs": []
    }
   ],
   "metadata": {}
  }
 ]
}